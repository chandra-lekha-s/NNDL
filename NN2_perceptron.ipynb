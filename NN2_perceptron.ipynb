{
  "nbformat": 4,
  "nbformat_minor": 0,
  "metadata": {
    "colab": {
      "provenance": [],
      "collapsed_sections": []
    },
    "kernelspec": {
      "name": "python3",
      "display_name": "Python 3"
    },
    "language_info": {
      "name": "python"
    }
  },
  "cells": [
    {
      "cell_type": "markdown",
      "source": [
        "Create a perceptron to demonstrate the following\n",
        "\n",
        "a. AND operation\n",
        "\n",
        "b. OR operation\n",
        "\n",
        "c. XOR operation\n"
      ],
      "metadata": {
        "id": "vXdCIvPJ0-gE"
      }
    },
    {
      "cell_type": "code",
      "source": [
        "import numpy as np"
      ],
      "metadata": {
        "id": "aVGjZR7v1rn_"
      },
      "execution_count": null,
      "outputs": []
    },
    {
      "cell_type": "code",
      "source": [
        "def unit_step(v):\n",
        "\t# Heavyside Step function. v must be a scalar \n",
        "\tif v >= 0:\n",
        "\t\treturn 1\n",
        "\telse:\n",
        "\t\treturn 0\n",
        "\t\n",
        "def perceptron(t, x, w, b):\n",
        "  # Function implemented by a perceptron with weight vector w and bias b\n",
        "\tv = np.dot(w, x) + b\n",
        "\t# y = unit_step(v)\n",
        "\t# return y\n",
        "\tprint(\"Error = t-v = (\",t,\")-(\",v,\") = \",t-v)\n",
        "\treturn v"
      ],
      "metadata": {
        "id": "f9VCjpYL120z"
      },
      "execution_count": null,
      "outputs": []
    },
    {
      "cell_type": "code",
      "source": [
        "def NOT_percep(x,t):\n",
        "\treturn perceptron(t, x, w=-1, b=0.5)\n",
        " \n",
        "NOT_TARGET = [1,0]\n",
        "print(\"NOT(0) = {0} -> {1}\\n\".format(NOT_percep(0,NOT_TARGET[0]),NOT_TARGET[0]))\n",
        "print(\"NOT(1) = {0} -> {1}\\n \".format(NOT_percep(1,NOT_TARGET[1]),NOT_TARGET[1]))"
      ],
      "metadata": {
        "colab": {
          "base_uri": "https://localhost:8080/"
        },
        "id": "wX8zFJSV2z4a",
        "outputId": "33b44265-d63d-4269-ba77-ea57dd7afc50"
      },
      "execution_count": null,
      "outputs": [
        {
          "output_type": "stream",
          "name": "stdout",
          "text": [
            "Error = t-v = ( 1 )-( 0.5 ) =  0.5\n",
            "NOT(0) = 0.5 -> 1\n",
            "\n",
            "Error = t-v = ( 0 )-( -0.5 ) =  0.5\n",
            "NOT(1) = -0.5 -> 0\n",
            " \n"
          ]
        }
      ]
    },
    {
      "cell_type": "code",
      "execution_count": null,
      "metadata": {
        "colab": {
          "base_uri": "https://localhost:8080/"
        },
        "id": "Y4bde59o00Tm",
        "outputId": "3fe72852-d330-4998-bbdf-01d00f1d9cde"
      },
      "outputs": [
        {
          "output_type": "stream",
          "name": "stdout",
          "text": [
            "Error = t-v = ( 1 )-( 1.5 ) =  -0.5\n",
            "AND(1, 1) = 1.5 -> 1\n",
            "\n",
            "Error = t-v = ( 0 )-( 1.0 ) =  -1.0\n",
            "AND(1, 0) = 1.0 -> 0\n",
            "\n",
            "Error = t-v = ( 0 )-( 0.0 ) =  0.0\n",
            "AND(0, 1) = 0.0 -> 0\n",
            "\n",
            "Error = t-v = ( 0 )-( -0.5 ) =  0.5\n",
            "AND(0, 0) = -0.5 -> 0\n",
            "\n"
          ]
        }
      ],
      "source": [
        "def AND_percep(x,t):\n",
        "    w = np.array([1.5, 0.5])  # w1, w2\n",
        "    b = -0.5                  # w0 \n",
        "    return perceptron(t,x, w, b)\n",
        "\n",
        "AND_TARGET = [1,0,0,0]\n",
        "\n",
        "# Test\n",
        "example1 = np.array([1, 1])\n",
        "example2 = np.array([1, 0])\n",
        "example3 = np.array([0, 1])\n",
        "example4 = np.array([0, 0])\n",
        "\n",
        "print(\"AND({}, {}) = {} -> {}\\n\".format(1, 1, AND_percep(example1,AND_TARGET[0]),AND_TARGET[0]))\n",
        "print(\"AND({}, {}) = {} -> {}\\n\".format(1, 0, AND_percep(example2,AND_TARGET[1]),AND_TARGET[1]))\n",
        "print(\"AND({}, {}) = {} -> {}\\n\".format(0, 1, AND_percep(example3,AND_TARGET[2]),AND_TARGET[2]))\n",
        "print(\"AND({}, {}) = {} -> {}\\n\".format(0, 0, AND_percep(example4,AND_TARGET[3]),AND_TARGET[3]))"
      ]
    },
    {
      "cell_type": "code",
      "source": [
        "def OR_percep(x,t):\n",
        "    w = np.array([1., 1])  # w1, w2\n",
        "    b = -0.5                  # w0 \n",
        "    return perceptron(t,x, w, b)\n",
        "\n",
        "OR_TARGET = [1,1,1,0]\n",
        "\n",
        "# Test\n",
        "example1 = np.array([1, 1])\n",
        "example2 = np.array([1, 0])\n",
        "example3 = np.array([0, 1])\n",
        "example4 = np.array([0, 0])\n",
        "\n",
        "print(\"OR({}, {}) = {} -> {}\\n\".format(1, 1, OR_percep(example1,OR_TARGET[0]),OR_TARGET[0]))\n",
        "print(\"OR({}, {}) = {} -> {}\\n\".format(1, 0, OR_percep(example2,OR_TARGET[1]),OR_TARGET[1]))\n",
        "print(\"OR({}, {}) = {} -> {}\\n\".format(0, 1, OR_percep(example3,OR_TARGET[2]),OR_TARGET[2]))\n",
        "print(\"OR({}, {}) = {} -> {}\\n\".format(0, 0, OR_percep(example4,OR_TARGET[3]),OR_TARGET[3]))"
      ],
      "metadata": {
        "colab": {
          "base_uri": "https://localhost:8080/"
        },
        "id": "FSoqOf5y2gCz",
        "outputId": "4321d0b5-7df2-49d2-f093-8985e2cb97fc"
      },
      "execution_count": null,
      "outputs": [
        {
          "output_type": "stream",
          "name": "stdout",
          "text": [
            "Error = t-v = ( 1 )-( 1.5 ) =  -0.5\n",
            "OR(1, 1) = 1.5 -> 1\n",
            "\n",
            "Error = t-v = ( 1 )-( 0.5 ) =  0.5\n",
            "OR(1, 0) = 0.5 -> 1\n",
            "\n",
            "Error = t-v = ( 1 )-( 0.5 ) =  0.5\n",
            "OR(0, 1) = 0.5 -> 1\n",
            "\n",
            "Error = t-v = ( 0 )-( -0.5 ) =  0.5\n",
            "OR(0, 0) = -0.5 -> 0\n",
            "\n"
          ]
        }
      ]
    },
    {
      "cell_type": "code",
      "source": [
        "def XOR_net(x,t):\n",
        "    gate_1 = AND_percep(x,t)\n",
        "    gate_2 = NOT_percep(gate_1,t)\n",
        "    gate_3 = OR_percep(x,t)\n",
        "    new_x = np.array([gate_2, gate_3])\n",
        "    output = AND_percep(new_x,t)\n",
        "    return output\n",
        "\n",
        "XOR_TARGET = [0,1,1,0]\n",
        "\n",
        "print(\"XOR({}, {}) = {} -> {}\\n\".format(1, 1, XOR_net(example1,XOR_TARGET[0]),XOR_TARGET[0]))\n",
        "print(\"XOR({}, {}) = {} -> {}\\n\".format(1, 0, XOR_net(example2,XOR_TARGET[1]),XOR_TARGET[1]))\n",
        "print(\"XOR({}, {}) = {} -> {}\\n\".format(0, 1, XOR_net(example3,XOR_TARGET[2]),XOR_TARGET[2]))\n",
        "print(\"XOR({}, {}) = {} -> {}\\n\".format(0, 0, XOR_net(example4,XOR_TARGET[3]),XOR_TARGET[3]))"
      ],
      "metadata": {
        "colab": {
          "base_uri": "https://localhost:8080/"
        },
        "id": "RsAlXuHy2k4L",
        "outputId": "17485b45-50b2-4c93-fc3a-94060e86ee38"
      },
      "execution_count": null,
      "outputs": [
        {
          "output_type": "stream",
          "name": "stdout",
          "text": [
            "Error = t-v = ( 0 )-( 1.5 ) =  -1.5\n",
            "Error = t-v = ( 0 )-( -1.0 ) =  1.0\n",
            "Error = t-v = ( 0 )-( 1.5 ) =  -1.5\n",
            "Error = t-v = ( 0 )-( -1.25 ) =  1.25\n",
            "XOR(1, 1) = -1.25 -> 0\n",
            "\n",
            "Error = t-v = ( 1 )-( 1.0 ) =  0.0\n",
            "Error = t-v = ( 1 )-( -0.5 ) =  1.5\n",
            "Error = t-v = ( 1 )-( 0.5 ) =  0.5\n",
            "Error = t-v = ( 1 )-( -1.0 ) =  2.0\n",
            "XOR(1, 0) = -1.0 -> 1\n",
            "\n",
            "Error = t-v = ( 1 )-( 0.0 ) =  1.0\n",
            "Error = t-v = ( 1 )-( 0.5 ) =  0.5\n",
            "Error = t-v = ( 1 )-( 0.5 ) =  0.5\n",
            "Error = t-v = ( 1 )-( 0.5 ) =  0.5\n",
            "XOR(0, 1) = 0.5 -> 1\n",
            "\n",
            "Error = t-v = ( 0 )-( -0.5 ) =  0.5\n",
            "Error = t-v = ( 0 )-( 1.0 ) =  -1.0\n",
            "Error = t-v = ( 0 )-( -0.5 ) =  0.5\n",
            "Error = t-v = ( 0 )-( 0.75 ) =  -0.75\n",
            "XOR(0, 0) = 0.75 -> 0\n",
            "\n"
          ]
        }
      ]
    }
  ]
}